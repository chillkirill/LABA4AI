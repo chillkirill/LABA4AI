{
 "cells": [
  {
   "cell_type": "code",
   "execution_count": 1,
   "id": "61a498ff-cd4e-40ff-8487-32a7eabf8e48",
   "metadata": {},
   "outputs": [
    {
     "name": "stdout",
     "output_type": "stream",
     "text": [
      "3    25\n",
      "4    36\n",
      "5    49\n",
      "6    64\n",
      "dtype: int32\n"
     ]
    }
   ],
   "source": [
    "import pandas as pd\n",
    "import numpy as np\n",
    "\n",
    "# Создание Series из массива NumPy\n",
    "data = np.array([4, 9, 16, 25, 36, 49, 64])\n",
    "series = pd.Series(data)\n",
    "\n",
    "# Фильтрация данных с помощью логической индексации\n",
    "filtered_series = series[series > 20]\n",
    "\n",
    "print(filtered_series)\n"
   ]
  },
  {
   "cell_type": "code",
   "execution_count": null,
   "id": "ba3af50a-369d-4b54-8038-aba3a65bbf4e",
   "metadata": {},
   "outputs": [],
   "source": []
  }
 ],
 "metadata": {
  "kernelspec": {
   "display_name": "Python [conda env:base] *",
   "language": "python",
   "name": "conda-base-py"
  },
  "language_info": {
   "codemirror_mode": {
    "name": "ipython",
    "version": 3
   },
   "file_extension": ".py",
   "mimetype": "text/x-python",
   "name": "python",
   "nbconvert_exporter": "python",
   "pygments_lexer": "ipython3",
   "version": "3.12.7"
  }
 },
 "nbformat": 4,
 "nbformat_minor": 5
}
