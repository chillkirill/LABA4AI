{
 "cells": [
  {
   "cell_type": "code",
   "execution_count": 1,
   "id": "a9eadc18-953d-439e-bc59-6780aa2a8bb1",
   "metadata": {},
   "outputs": [
    {
     "name": "stdout",
     "output_type": "stream",
     "text": [
      "Индексы уникальны: False\n",
      "\n",
      "Series после группировки и суммирования:\n",
      "A    40\n",
      "B    80\n",
      "C    40\n",
      "D    50\n",
      "dtype: int64\n"
     ]
    }
   ],
   "source": [
    "import pandas as pd\n",
    "\n",
    "index = ['A', 'B', 'A', 'C', 'D', 'B']\n",
    "values = [10, 20, 30, 40, 50, 60]\n",
    "my_series = pd.Series(values, index=index)\n",
    "\n",
    "#  Проверка уникальности индексов\n",
    "is_unique = my_series.index.is_unique\n",
    "print(\"Индексы уникальны:\", is_unique)\n",
    "\n",
    "#  Группировка и суммирование, если индексы не уникальны\n",
    "if not is_unique:\n",
    "    grouped_series = my_series.groupby(my_series.index).sum()\n",
    "    print(\"\\nSeries после группировки и суммирования:\")\n",
    "    print(grouped_series)\n",
    "else:\n",
    "    print(\"\\nSeries с уникальными индексами:\")\n",
    "    print(my_series)\n"
   ]
  },
  {
   "cell_type": "code",
   "execution_count": null,
   "id": "c673c989-731e-4dd9-8286-6d77f79f488d",
   "metadata": {},
   "outputs": [],
   "source": []
  }
 ],
 "metadata": {
  "kernelspec": {
   "display_name": "Python [conda env:base] *",
   "language": "python",
   "name": "conda-base-py"
  },
  "language_info": {
   "codemirror_mode": {
    "name": "ipython",
    "version": 3
   },
   "file_extension": ".py",
   "mimetype": "text/x-python",
   "name": "python",
   "nbconvert_exporter": "python",
   "pygments_lexer": "ipython3",
   "version": "3.12.7"
  }
 },
 "nbformat": 4,
 "nbformat_minor": 5
}
