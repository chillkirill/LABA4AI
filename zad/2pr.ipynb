{
 "cells": [
  {
   "cell_type": "code",
   "execution_count": 1,
   "id": "2b638887-8d59-4538-b4d0-17be5e0ee420",
   "metadata": {},
   "outputs": [
    {
     "name": "stdout",
     "output_type": "stream",
     "text": [
      "Элемент с индексом 'C': 36\n",
      "Третий элемент: 36\n"
     ]
    }
   ],
   "source": [
    "import pandas as pd\n",
    "\n",
    "data = [12, 24, 36, 48, 60]\n",
    "index = ['A', 'B', 'C', 'D', 'E']\n",
    "\n",
    "series = pd.Series(data, index=index)\n",
    "\n",
    "# Получение элемента с индексом 'C' \n",
    "element_c = series.loc['C']\n",
    "print(f\"Элемент с индексом 'C': {element_c}\")\n",
    "\n",
    "# Получение третьего элемента \n",
    "third_element = series.iloc[2]\n",
    "print(f\"Третий элемент: {third_element}\")\n"
   ]
  },
  {
   "cell_type": "code",
   "execution_count": null,
   "id": "ffc6e85f-4f8a-411b-b8d9-ee6187cdedc5",
   "metadata": {},
   "outputs": [],
   "source": []
  }
 ],
 "metadata": {
  "kernelspec": {
   "display_name": "Python [conda env:base] *",
   "language": "python",
   "name": "conda-base-py"
  },
  "language_info": {
   "codemirror_mode": {
    "name": "ipython",
    "version": 3
   },
   "file_extension": ".py",
   "mimetype": "text/x-python",
   "name": "python",
   "nbconvert_exporter": "python",
   "pygments_lexer": "ipython3",
   "version": "3.12.7"
  }
 },
 "nbformat": 4,
 "nbformat_minor": 5
}
