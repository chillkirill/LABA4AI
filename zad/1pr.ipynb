{
 "cells": [
  {
   "cell_type": "code",
   "execution_count": 1,
   "id": "9f363d0b-916a-4b9a-961e-69fda03cb7fb",
   "metadata": {},
   "outputs": [
    {
     "name": "stdout",
     "output_type": "stream",
     "text": [
      "a     5\n",
      "b    15\n",
      "c    25\n",
      "d    35\n",
      "e    45\n",
      "dtype: int64\n",
      "int64\n"
     ]
    }
   ],
   "source": [
    "import pandas as pd\n",
    "\n",
    "data = [5, 15, 25, 35, 45]\n",
    "index = ['a', 'b', 'c', 'd', 'e']\n",
    "\n",
    "series = pd.Series(data, index=index)\n",
    "\n",
    "print(series)\n",
    "print(series.dtype)\n"
   ]
  },
  {
   "cell_type": "code",
   "execution_count": null,
   "id": "d0daeeb2-6d4d-40be-8450-2a6023d35b54",
   "metadata": {},
   "outputs": [],
   "source": []
  }
 ],
 "metadata": {
  "kernelspec": {
   "display_name": "Python [conda env:base] *",
   "language": "python",
   "name": "conda-base-py"
  },
  "language_info": {
   "codemirror_mode": {
    "name": "ipython",
    "version": 3
   },
   "file_extension": ".py",
   "mimetype": "text/x-python",
   "name": "python",
   "nbconvert_exporter": "python",
   "pygments_lexer": "ipython3",
   "version": "3.12.7"
  }
 },
 "nbformat": 4,
 "nbformat_minor": 5
}
