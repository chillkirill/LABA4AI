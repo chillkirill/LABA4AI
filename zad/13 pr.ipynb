{
 "cells": [
  {
   "cell_type": "code",
   "execution_count": 1,
   "id": "9f6f0a53-464c-42b1-9180-661ee29a15ce",
   "metadata": {},
   "outputs": [
    {
     "name": "stdout",
     "output_type": "stream",
     "text": [
      "Тип данных индекса: datetime64[ns]\n",
      "\n",
      "Series с DatetimeIndex:\n",
      "2024-03-10    100\n",
      "2024-03-11    200\n",
      "2024-03-12    300\n",
      "dtype: int64\n"
     ]
    }
   ],
   "source": [
    "import pandas as pd\n",
    "\n",
    "#  Создание Series со строковыми индексами\n",
    "index_strings = ['2024-03-10', '2024-03-11', '2024-03-12']\n",
    "values = [100, 200, 300]\n",
    "my_series = pd.Series(values, index=index_strings)\n",
    "\n",
    "#  Преобразование индексов в DatetimeIndex\n",
    "my_series.index = pd.to_datetime(my_series.index)\n",
    "\n",
    "print(\"Тип данных индекса:\", my_series.index.dtype)\n",
    "\n",
    "print(\"\\nSeries с DatetimeIndex:\")\n",
    "print(my_series)\n"
   ]
  },
  {
   "cell_type": "code",
   "execution_count": null,
   "id": "b81f6d16-401a-469f-9a51-a786f2ebdbef",
   "metadata": {},
   "outputs": [],
   "source": []
  }
 ],
 "metadata": {
  "kernelspec": {
   "display_name": "Python [conda env:base] *",
   "language": "python",
   "name": "conda-base-py"
  },
  "language_info": {
   "codemirror_mode": {
    "name": "ipython",
    "version": 3
   },
   "file_extension": ".py",
   "mimetype": "text/x-python",
   "name": "python",
   "nbconvert_exporter": "python",
   "pygments_lexer": "ipython3",
   "version": "3.12.7"
  }
 },
 "nbformat": 4,
 "nbformat_minor": 5
}
