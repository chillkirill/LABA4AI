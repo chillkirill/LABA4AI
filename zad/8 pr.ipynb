{
 "cells": [
  {
   "cell_type": "code",
   "execution_count": 1,
   "id": "3e1e84c6-d17f-4e63-94ee-07654e2a4b56",
   "metadata": {},
   "outputs": [
    {
     "name": "stdout",
     "output_type": "stream",
     "text": [
      "Результат сложения до замены NaN:\n",
      " a     NaN\n",
      "b    25.0\n",
      "c    45.0\n",
      "d    65.0\n",
      "e     NaN\n",
      "dtype: float64\n",
      "\n",
      "Результат сложения после замены NaN на 0:\n",
      " a     0.0\n",
      "b    25.0\n",
      "c    45.0\n",
      "d    65.0\n",
      "e     0.0\n",
      "dtype: float64\n",
      "\n",
      "Почему появляются NaN:\n",
      "При сложении Series, Pandas выравнивает данные по индексам.\n",
      "Если индекс присутствует только в одном из Series, то в результате сложения получается NaN для этого индекса.\n",
      "В данном случае, индекс 'a' есть только в s1, а индекс 'e' есть только в s2, поэтому при сложении на этих позициях получаются NaN.\n"
     ]
    }
   ],
   "source": [
    "import pandas as pd\n",
    "import numpy as np\n",
    "\n",
    "# двa Series\n",
    "s1 = pd.Series([10, 20, 30, 40], index=['a', 'b', 'c', 'd'])\n",
    "s2 = pd.Series([5, 15, 25, 35], index=['b', 'c', 'd', 'e'])\n",
    "\n",
    "result = s1 + s2\n",
    "\n",
    "print(\"Результат сложения до замены NaN:\\n\", result)\n",
    "\n",
    "# Замена nan на 0\n",
    "result_filled = result.fillna(0)\n",
    "\n",
    "print(\"\\nРезультат сложения после замены NaN на 0:\\n\", result_filled)\n",
    "\n",
    "# Объяснение появления nan\n",
    "print(\"\\nПочему появляются NaN:\")\n",
    "print(\"При сложении Series, Pandas выравнивает данные по индексам.\")\n",
    "print(\"Если индекс присутствует только в одном из Series, то в результате сложения получается NaN для этого индекса.\")\n",
    "print(\"В данном случае, индекс 'a' есть только в s1, а индекс 'e' есть только в s2, поэтому при сложении на этих позициях получаются NaN.\")\n"
   ]
  },
  {
   "cell_type": "code",
   "execution_count": null,
   "id": "200d4023-12c7-40f1-b77e-5e7a86bd798b",
   "metadata": {},
   "outputs": [],
   "source": []
  }
 ],
 "metadata": {
  "kernelspec": {
   "display_name": "Python [conda env:base] *",
   "language": "python",
   "name": "conda-base-py"
  },
  "language_info": {
   "codemirror_mode": {
    "name": "ipython",
    "version": 3
   },
   "file_extension": ".py",
   "mimetype": "text/x-python",
   "name": "python",
   "nbconvert_exporter": "python",
   "pygments_lexer": "ipython3",
   "version": "3.12.7"
  }
 },
 "nbformat": 4,
 "nbformat_minor": 5
}
