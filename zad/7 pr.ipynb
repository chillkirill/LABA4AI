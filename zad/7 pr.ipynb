{
 "cells": [
  {
   "cell_type": "code",
   "execution_count": 1,
   "id": "bb1b689a-1867-4883-af77-be1550ea88ce",
   "metadata": {},
   "outputs": [
    {
     "name": "stdout",
     "output_type": "stream",
     "text": [
      "Series после заполнения NaN средним значением:\n",
      "0    1.20\n",
      "1    4.25\n",
      "2    3.40\n",
      "3    4.25\n",
      "4    5.60\n",
      "5    6.80\n",
      "dtype: float64\n"
     ]
    }
   ],
   "source": [
    "import pandas as pd\n",
    "import numpy as np\n",
    "\n",
    "# Создание Series с данными, содержащими пропущенные значения nan\n",
    "data = [1.2, np.nan, 3.4, np.nan, 5.6, 6.8]\n",
    "series = pd.Series(data)\n",
    "\n",
    "#  среднеe значения всех непустых элементов\n",
    "mean_value = series.mean()\n",
    "\n",
    "# Замена всех nan на среднее значение\n",
    "filled_series = series.fillna(mean_value)\n",
    "\n",
    "print(\"Series после заполнения NaN средним значением:\")\n",
    "print(filled_series)\n"
   ]
  },
  {
   "cell_type": "code",
   "execution_count": null,
   "id": "46d1eecd-239b-4df9-a343-1f7da3581dcf",
   "metadata": {},
   "outputs": [],
   "source": []
  }
 ],
 "metadata": {
  "kernelspec": {
   "display_name": "Python [conda env:base] *",
   "language": "python",
   "name": "conda-base-py"
  },
  "language_info": {
   "codemirror_mode": {
    "name": "ipython",
    "version": 3
   },
   "file_extension": ".py",
   "mimetype": "text/x-python",
   "name": "python",
   "nbconvert_exporter": "python",
   "pygments_lexer": "ipython3",
   "version": "3.12.7"
  }
 },
 "nbformat": 4,
 "nbformat_minor": 5
}
