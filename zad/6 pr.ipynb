{
 "cells": [
  {
   "cell_type": "code",
   "execution_count": 1,
   "id": "f7b9a680-4d03-44a8-9001-72ab57e71ac6",
   "metadata": {},
   "outputs": [
    {
     "name": "stdout",
     "output_type": "stream",
     "text": [
      "Индексы элементов NaN: Index([1, 3], dtype='int64')\n"
     ]
    }
   ],
   "source": [
    "import pandas as pd\n",
    "import numpy as np\n",
    "\n",
    "# Создание Series с данными, содержащими пропущенные значения nan\n",
    "data = [1.2, np.nan, 3.4, np.nan, 5.6, 6.8]\n",
    "series = pd.Series(data)\n",
    "\n",
    "# Проверка на наличие пропущенных значений \n",
    "nan_mask = series.isnull()\n",
    "\n",
    "nan_indices = nan_mask[nan_mask].index\n",
    "print(\"Индексы элементов NaN:\", nan_indices)\n"
   ]
  },
  {
   "cell_type": "code",
   "execution_count": null,
   "id": "6e6b1ec4-6f71-4b76-9626-8659cd95e3e1",
   "metadata": {},
   "outputs": [],
   "source": []
  }
 ],
 "metadata": {
  "kernelspec": {
   "display_name": "Python [conda env:base] *",
   "language": "python",
   "name": "conda-base-py"
  },
  "language_info": {
   "codemirror_mode": {
    "name": "ipython",
    "version": 3
   },
   "file_extension": ".py",
   "mimetype": "text/x-python",
   "name": "python",
   "nbconvert_exporter": "python",
   "pygments_lexer": "ipython3",
   "version": "3.12.7"
  }
 },
 "nbformat": 4,
 "nbformat_minor": 5
}
