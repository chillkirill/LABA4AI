{
 "cells": [
  {
   "cell_type": "code",
   "execution_count": 1,
   "id": "a92c6635-0f09-4b08-a1a6-3245a0bd030d",
   "metadata": {},
   "outputs": [
    {
     "name": "stdout",
     "output_type": "stream",
     "text": [
      "Первые 7 элементов:\n",
      "0    48\n",
      "1    15\n",
      "2    53\n",
      "3    90\n",
      "4     2\n",
      "5    56\n",
      "6    60\n",
      "dtype: int32\n",
      "\n",
      "Последние 5 элементов:\n",
      "45    21\n",
      "46    41\n",
      "47    92\n",
      "48    82\n",
      "49    44\n",
      "dtype: int32\n"
     ]
    }
   ],
   "source": [
    "import pandas as pd\n",
    "import numpy as np\n",
    "\n",
    "# Создание Series со 50 случайными целыми числами от 1 до 100\n",
    "data = np.random.randint(1, 101, 50)  \n",
    "series = pd.Series(data)\n",
    "\n",
    "#  первыe 7 элементов\n",
    "print(\"Первые 7 элементов:\")\n",
    "print(series.head(7))\n",
    "\n",
    "#  последниe 5 элементов\n",
    "print(\"\\nПоследние 5 элементов:\")\n",
    "print(series.tail(5))\n"
   ]
  },
  {
   "cell_type": "code",
   "execution_count": null,
   "id": "8298c833-0b4f-4904-854d-6c04cd7accdd",
   "metadata": {},
   "outputs": [],
   "source": []
  }
 ],
 "metadata": {
  "kernelspec": {
   "display_name": "Python [conda env:base] *",
   "language": "python",
   "name": "conda-base-py"
  },
  "language_info": {
   "codemirror_mode": {
    "name": "ipython",
    "version": 3
   },
   "file_extension": ".py",
   "mimetype": "text/x-python",
   "name": "python",
   "nbconvert_exporter": "python",
   "pygments_lexer": "ipython3",
   "version": "3.12.7"
  }
 },
 "nbformat": 4,
 "nbformat_minor": 5
}
