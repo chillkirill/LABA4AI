{
 "cells": [
  {
   "cell_type": "code",
   "execution_count": 1,
   "id": "6b34539b-0ccc-4a77-a1c1-1416ea692bc6",
   "metadata": {},
   "outputs": [
    {
     "name": "stdout",
     "output_type": "stream",
     "text": [
      "Исходный тип данных: object\n",
      "Тип данных после преобразования: category\n",
      "\n",
      "Series после преобразования:\n",
      "0       cat\n",
      "1       dog\n",
      "2    rabbit\n",
      "3    parrot\n",
      "4      fish\n",
      "dtype: category\n",
      "Categories (5, object): ['cat', 'dog', 'fish', 'parrot', 'rabbit']\n"
     ]
    }
   ],
   "source": [
    "import pandas as pd\n",
    "\n",
    "# Создание Series из списка строк\n",
    "data = ['cat', 'dog', 'rabbit', 'parrot', 'fish']\n",
    "series = pd.Series(data)\n",
    "\n",
    "#  тип данных\n",
    "print(\"Исходный тип данных:\", series.dtype)\n",
    "\n",
    "# Преобразование типа данных \n",
    "series_categorical = series.astype('category')\n",
    "\n",
    "# Определение типа данных после преобразования\n",
    "print(\"Тип данных после преобразования:\", series_categorical.dtype)\n",
    "\n",
    "print(\"\\nSeries после преобразования:\")\n",
    "print(series_categorical)\n"
   ]
  },
  {
   "cell_type": "code",
   "execution_count": null,
   "id": "651126a0-db1f-49ba-964a-a4d067caddf6",
   "metadata": {},
   "outputs": [],
   "source": []
  }
 ],
 "metadata": {
  "kernelspec": {
   "display_name": "Python [conda env:base] *",
   "language": "python",
   "name": "conda-base-py"
  },
  "language_info": {
   "codemirror_mode": {
    "name": "ipython",
    "version": 3
   },
   "file_extension": ".py",
   "mimetype": "text/x-python",
   "name": "python",
   "nbconvert_exporter": "python",
   "pygments_lexer": "ipython3",
   "version": "3.12.7"
  }
 },
 "nbformat": 4,
 "nbformat_minor": 5
}
