{
 "cells": [
  {
   "cell_type": "code",
   "execution_count": 1,
   "id": "f1da3981-c44f-45db-8656-b4daa37297fd",
   "metadata": {},
   "outputs": [
    {
     "name": "stdout",
     "output_type": "stream",
     "text": [
      "Исходный Series:\n",
      "2024-03-01    15\n",
      "2024-03-02    62\n",
      "2024-03-03    19\n",
      "2024-03-04    73\n",
      "2024-03-05    16\n",
      "2024-03-06    84\n",
      "2024-03-07    95\n",
      "2024-03-08    19\n",
      "2024-03-09    16\n",
      "2024-03-10    56\n",
      "Freq: D, dtype: int32\n",
      "\n",
      "Данные за 5-8 марта:\n",
      "2024-03-05    16\n",
      "2024-03-06    84\n",
      "2024-03-07    95\n",
      "2024-03-08    19\n",
      "Freq: D, dtype: int32\n"
     ]
    }
   ],
   "source": [
    "import pandas as pd\n",
    "import numpy as np\n",
    "\n",
    "date_index = pd.date_range(start='2024-03-01', periods=10, freq='D')\n",
    "random_values = np.random.randint(10, 101, size=10)  # randint принимает верхнюю границу не включительно, поэтому 101\n",
    "date_series = pd.Series(random_values, index=date_index)\n",
    "\n",
    "#  Выбор данных за 5-8 марта\n",
    "start_date = '2024-03-05'\n",
    "end_date = '2024-03-08'\n",
    "selected_data = date_series[start_date:end_date]\n",
    "\n",
    "print(\"Исходный Series:\")\n",
    "print(date_series)\n",
    "print(\"\\nДанные за 5-8 марта:\")\n",
    "print(selected_data)\n"
   ]
  },
  {
   "cell_type": "code",
   "execution_count": null,
   "id": "d73ef077-bc78-4d4e-9a73-edb08f38bdbb",
   "metadata": {},
   "outputs": [],
   "source": []
  }
 ],
 "metadata": {
  "kernelspec": {
   "display_name": "Python [conda env:base] *",
   "language": "python",
   "name": "conda-base-py"
  },
  "language_info": {
   "codemirror_mode": {
    "name": "ipython",
    "version": 3
   },
   "file_extension": ".py",
   "mimetype": "text/x-python",
   "name": "python",
   "nbconvert_exporter": "python",
   "pygments_lexer": "ipython3",
   "version": "3.12.7"
  }
 },
 "nbformat": 4,
 "nbformat_minor": 5
}
