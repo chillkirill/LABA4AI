{
 "cells": [
  {
   "cell_type": "code",
   "execution_count": 1,
   "id": "cc6b01c4-56f9-4f6f-b7cd-96c9bc3b1b2e",
   "metadata": {},
   "outputs": [
    {
     "name": "stdout",
     "output_type": "stream",
     "text": [
      "Сумма: 1973\n",
      "Среднее: 98.65\n",
      "Минимум: 50\n",
      "Максимум: 141\n",
      "Стандартное отклонение: 22.35661917760893\n"
     ]
    }
   ],
   "source": [
    "import pandas as pd\n",
    "import numpy as np\n",
    "\n",
    "random_series = pd.Series(np.random.randint(50, 151, size=20)) #randint принимает верхнюю границу не включительно, поэтому 151\n",
    "\n",
    "# Вычисление статистик\n",
    "total_sum = random_series.sum()\n",
    "average = random_series.mean()\n",
    "minimum = random_series.min()\n",
    "maximum = random_series.max()\n",
    "standard_deviation = random_series.std()\n",
    "\n",
    "\n",
    "print(\"Сумма:\", total_sum)\n",
    "print(\"Среднее:\", average)\n",
    "print(\"Минимум:\", minimum)\n",
    "print(\"Максимум:\", maximum)\n",
    "print(\"Стандартное отклонение:\", standard_deviation)\n"
   ]
  },
  {
   "cell_type": "code",
   "execution_count": null,
   "id": "6f0712f6-8751-46a7-b164-95e5b3be6ddb",
   "metadata": {},
   "outputs": [],
   "source": []
  }
 ],
 "metadata": {
  "kernelspec": {
   "display_name": "Python [conda env:base] *",
   "language": "python",
   "name": "conda-base-py"
  },
  "language_info": {
   "codemirror_mode": {
    "name": "ipython",
    "version": 3
   },
   "file_extension": ".py",
   "mimetype": "text/x-python",
   "name": "python",
   "nbconvert_exporter": "python",
   "pygments_lexer": "ipython3",
   "version": "3.12.7"
  }
 },
 "nbformat": 4,
 "nbformat_minor": 5
}
