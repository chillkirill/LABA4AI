{
 "cells": [
  {
   "cell_type": "code",
   "execution_count": 1,
   "id": "4806d5ab-609b-4a6f-81a6-f022518e7942",
   "metadata": {},
   "outputs": [
    {
     "name": "stdout",
     "output_type": "stream",
     "text": [
      "Исходный Series:\n",
      " 0     2\n",
      "1     4\n",
      "2     6\n",
      "3     8\n",
      "4    10\n",
      "dtype: int64\n",
      "\n",
      "Series с квадратными корнями:\n",
      " 0    1.414214\n",
      "1    2.000000\n",
      "2    2.449490\n",
      "3    2.828427\n",
      "4    3.162278\n",
      "dtype: float64\n"
     ]
    }
   ],
   "source": [
    "import pandas as pd\n",
    "import numpy as np\n",
    "\n",
    "data = [2, 4, 6, 8, 10]\n",
    "series = pd.Series(data)\n",
    "\n",
    "# Применение функции вычисления квадратного корня \n",
    "sqrt_series = series.apply(np.sqrt)\n",
    "\n",
    "print(\"Исходный Series:\\n\", series)\n",
    "print(\"\\nSeries с квадратными корнями:\\n\", sqrt_series)\n"
   ]
  },
  {
   "cell_type": "code",
   "execution_count": null,
   "id": "7d01d5f2-2d3b-4fc2-87cb-e42a08b25ad1",
   "metadata": {},
   "outputs": [],
   "source": []
  }
 ],
 "metadata": {
  "kernelspec": {
   "display_name": "Python [conda env:base] *",
   "language": "python",
   "name": "conda-base-py"
  },
  "language_info": {
   "codemirror_mode": {
    "name": "ipython",
    "version": 3
   },
   "file_extension": ".py",
   "mimetype": "text/x-python",
   "name": "python",
   "nbconvert_exporter": "python",
   "pygments_lexer": "ipython3",
   "version": "3.12.7"
  }
 },
 "nbformat": 4,
 "nbformat_minor": 5
}
